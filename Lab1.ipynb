{
 "cells": [
  {
   "cell_type": "code",
   "execution_count": 31,
   "metadata": {},
   "outputs": [
    {
     "data": {
      "text/plain": [
       "quickSort! (generic function with 1 method)"
      ]
     },
     "execution_count": 31,
     "metadata": {},
     "output_type": "execute_result"
    }
   ],
   "source": [
    "function quickSort!(array,p,q)\n",
    "    print(p,\" \",q,\"\\n\")\n",
    "    if(p>=q)\n",
    "        return\n",
    "    else\n",
    "        pivot=array[q]\n",
    "        i=p-1\n",
    "        for j= p:(q-1)\n",
    "            if(array[j]<pivot)\n",
    "            i+=1\n",
    "            array[i],array[j]=array[j],array[i]\n",
    "            end\n",
    "        end\n",
    "        array[i+1],array[q]=array[q],array[i+1]\n",
    "        quickSort!(array,p,i)\n",
    "        quickSort!(array,i+2,q)\n",
    "    end\n",
    "end"
   ]
  },
  {
   "cell_type": "code",
   "execution_count": 32,
   "metadata": {},
   "outputs": [],
   "source": [
    "x=rand(100);"
   ]
  },
  {
   "cell_type": "code",
   "execution_count": 33,
   "metadata": {},
   "outputs": [
    {
     "name": "stdout",
     "output_type": "stream",
     "text": [
      "1 100\n",
      "1 92\n",
      "1 26\n",
      "1 18\n",
      "1 1\n",
      "3 18\n",
      "3 5\n",
      "3 2\n",
      "4 5\n",
      "4 3\n",
      "5 5\n",
      "7 18\n",
      "7 17\n",
      "7 7\n",
      "9 17\n",
      "9 15\n",
      "9 9\n",
      "11 15\n",
      "11 12\n",
      "11 10\n",
      "12 12\n",
      "14 15\n",
      "14 13\n",
      "15 15\n",
      "17 17\n",
      "19 18\n",
      "20 26\n",
      "20 22\n",
      "20 19\n",
      "21 22\n",
      "21 20\n",
      "22 22\n",
      "24 26\n",
      "24 23\n",
      "25 26\n",
      "25 25\n",
      "27 26\n",
      "28 92\n",
      "28 40\n",
      "28 27\n",
      "29 40\n",
      "29 33\n",
      "29 31\n",
      "29 30\n",
      "29 29\n",
      "31 30\n",
      "32 31\n",
      "33 33\n",
      "35 40\n",
      "35 36\n",
      "35 35\n",
      "37 36\n",
      "38 40\n",
      "38 39\n",
      "38 37\n",
      "39 39\n",
      "41 40\n",
      "42 92\n",
      "42 52\n",
      "42 41\n",
      "43 52\n",
      "43 43\n",
      "45 52\n",
      "45 50\n",
      "45 48\n",
      "45 45\n",
      "47 48\n",
      "47 47\n",
      "49 48\n",
      "50 50\n",
      "52 52\n",
      "54 92\n",
      "54 57\n",
      "54 55\n",
      "54 54\n",
      "56 55\n",
      "57 57\n",
      "59 92\n",
      "59 81\n",
      "59 70\n",
      "59 63\n",
      "59 58\n",
      "60 63\n",
      "60 60\n",
      "62 63\n",
      "62 62\n",
      "64 63\n",
      "65 70\n",
      "65 69\n",
      "65 68\n",
      "65 65\n",
      "67 68\n",
      "67 67\n",
      "69 68\n",
      "70 69\n",
      "71 70\n",
      "72 81\n",
      "72 73\n",
      "72 72\n",
      "74 73\n",
      "75 81\n",
      "75 74\n",
      "76 81\n",
      "76 78\n",
      "76 76\n",
      "78 78\n",
      "80 81\n",
      "80 79\n",
      "81 81\n",
      "83 92\n",
      "83 88\n",
      "83 86\n",
      "83 82\n",
      "84 86\n",
      "84 84\n",
      "86 86\n",
      "88 88\n",
      "90 92\n",
      "90 89\n",
      "91 92\n",
      "91 91\n",
      "93 92\n",
      "94 100\n",
      "94 95\n",
      "94 94\n",
      "96 95\n",
      "97 100\n",
      "97 97\n",
      "99 100\n",
      "99 98\n",
      "100 100\n"
     ]
    }
   ],
   "source": [
    "quickSort!(x,1,100)"
   ]
  },
  {
   "cell_type": "code",
   "execution_count": 34,
   "metadata": {},
   "outputs": [
    {
     "data": {
      "text/plain": [
       "100-element Array{Float64,1}:\n",
       " 0.00725231\n",
       " 0.0244934 \n",
       " 0.0293725 \n",
       " 0.0303746 \n",
       " 0.0310987 \n",
       " 0.0347949 \n",
       " 0.0423315 \n",
       " 0.0444946 \n",
       " 0.0458362 \n",
       " 0.0498833 \n",
       " 0.0562576 \n",
       " 0.0652569 \n",
       " 0.0659134 \n",
       " ⋮         \n",
       " 0.905641  \n",
       " 0.915259  \n",
       " 0.922018  \n",
       " 0.936542  \n",
       " 0.946161  \n",
       " 0.947632  \n",
       " 0.949948  \n",
       " 0.960202  \n",
       " 0.963611  \n",
       " 0.966346  \n",
       " 0.974087  \n",
       " 0.997668  "
      ]
     },
     "execution_count": 34,
     "metadata": {},
     "output_type": "execute_result"
    }
   ],
   "source": [
    "x"
   ]
  },
  {
   "cell_type": "code",
   "execution_count": 35,
   "metadata": {},
   "outputs": [
    {
     "data": {
      "text/plain": [
       "true"
      ]
     },
     "execution_count": 35,
     "metadata": {},
     "output_type": "execute_result"
    }
   ],
   "source": [
    "sort(x)==x"
   ]
  },
  {
   "cell_type": "code",
   "execution_count": null,
   "metadata": {},
   "outputs": [],
   "source": []
  }
 ],
 "metadata": {
  "kernelspec": {
   "display_name": "Julia 0.6.2",
   "language": "julia",
   "name": "julia-0.6"
  },
  "language_info": {
   "file_extension": ".jl",
   "mimetype": "application/julia",
   "name": "julia",
   "version": "0.6.2"
  }
 },
 "nbformat": 4,
 "nbformat_minor": 2
}
