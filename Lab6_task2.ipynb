{
 "cells": [
  {
   "cell_type": "code",
   "execution_count": 1,
   "metadata": {},
   "outputs": [
    {
     "data": {
      "text/plain": [
       "20"
      ]
     },
     "execution_count": 1,
     "metadata": {},
     "output_type": "execute_result"
    }
   ],
   "source": [
    "path=\"C:\\\\Users\\\\User\\\\Alek dokumenty\\\\Programowanie\\\\Julia\"\n",
    "extension=\"ipynb\"\n",
    "size=20"
   ]
  },
  {
   "cell_type": "code",
   "execution_count": 2,
   "metadata": {},
   "outputs": [
    {
     "data": {
      "text/plain": [
       "producer (generic function with 1 method)"
      ]
     },
     "execution_count": 2,
     "metadata": {},
     "output_type": "execute_result"
    }
   ],
   "source": [
    "function producer(c::Channel)\n",
    "        for (root, dirs, files) in walkdir(path)\n",
    "        for file in files\n",
    "            if(extension!=\"\" && split(file, \".\")[end] != extension)\n",
    "                continue\n",
    "            end\n",
    "            put!(c,joinpath(root, file))\n",
    "            yield()\n",
    "        end\n",
    "        \n",
    "    end\n",
    "      close(c)\n",
    "      println(\"+ producent kończy\")\n",
    "   \n",
    "end"
   ]
  },
  {
   "cell_type": "code",
   "execution_count": 5,
   "metadata": {},
   "outputs": [
    {
     "data": {
      "text/plain": [
       "consument (generic function with 1 method)"
      ]
     },
     "execution_count": 5,
     "metadata": {},
     "output_type": "execute_result"
    }
   ],
   "source": [
    "function consument(c::Channel)\n",
    "    local_sum=0\n",
    "    println(\"* konsument zaczyna\")\n",
    "    for file in c\n",
    "        println(\"odebralem \", file)\n",
    "        local_sum+=countlines(file)\n",
    "        yield()\n",
    "    end\n",
    "    println(\"* konsument kończy\")\n",
    "    return local_sum\n",
    "end"
   ]
  },
  {
   "cell_type": "code",
   "execution_count": 7,
   "metadata": {
    "scrolled": true
   },
   "outputs": [
    {
     "name": "stdout",
     "output_type": "stream",
     "text": [
      "* konsument zaczyna\n",
      "odebralem C:\\Users\\User\\Alek dokumenty\\Programowanie\\Julia\\Julia_test.ipynb\n",
      "* konsument zaczyna\n",
      "odebralem C:\\Users\\User\\Alek dokumenty\\Programowanie\\Julia\\Lab2.ipynb\n",
      "* konsument zaczyna\n",
      "odebralem C:\\Users\\User\\Alek dokumenty\\Programowanie\\Julia\\Lab4.ipynb\n",
      "* konsument zaczyna\n",
      "odebralem C:\\Users\\User\\Alek dokumenty\\Programowanie\\Julia\\Lab6.ipynb\n",
      "* konsument zaczyna\n",
      "* konsument zaczyna\n",
      "* konsument zaczyna\n",
      "* konsument zaczyna\n",
      "* konsument zaczyna\n",
      "* konsument zaczyna\n",
      "* konsument zaczyna\n",
      "* konsument zaczyna\n",
      "* konsument zaczyna\n",
      "* konsument zaczyna\n",
      "* konsument zaczyna\n",
      "* konsument zaczyna\n",
      "* konsument zaczyna\n",
      "odebralem C:\\Users\\User\\Alek dokumenty\\Programowanie\\Julia\\.ipynb_checkpoints\\Lab1-checkpoint.ipynb\n",
      "odebralem C:\\Users\\User\\Alek dokumenty\\Programowanie\\Julia\\.ipynb_checkpoints\\Lab4-checkpoint.ipynb\n",
      "odebralem C:\\Users\\User\\Alek dokumenty\\Programowanie\\Julia\\.ipynb_checkpoints\\Lab6_task2-checkpoint.ipynb\n",
      "* konsument zaczyna\n",
      "* konsument zaczyna\n",
      "* konsument zaczyna\n",
      "odebralem C:\\Users\\User\\Alek dokumenty\\Programowanie\\Julia\\Lab1.ipynb\n",
      "odebralem C:\\Users\\User\\Alek dokumenty\\Programowanie\\Julia\\Lab3.ipynb\n",
      "odebralem C:\\Users\\User\\Alek dokumenty\\Programowanie\\Julia\\Lab5.ipynb\n",
      "odebralem C:\\Users\\User\\Alek dokumenty\\Programowanie\\Julia\\kzajac.github.io\\julia\\lab2\\Tutorial_2.ipynb\n",
      "odebralem C:\\Users\\User\\Alek dokumenty\\Programowanie\\Julia\\kzajac.github.io\\julia\\lab4\\DataAnal.ipynb\n",
      "odebralem C:\\Users\\User\\Alek dokumenty\\Programowanie\\Julia\\kzajac.github.io\\julia\\lab4\\DifferentialEquationsDataFrames.ipynb\n",
      "odebralem C:\\Users\\User\\Alek dokumenty\\Programowanie\\Julia\\kzajac.github.io\\julia\\lab5\\meta_short_old.ipynb\n",
      "odebralem C:\\Users\\User\\Alek dokumenty\\Programowanie\\Julia\\kzajac.github.io\\julia\\lab6\\Wyklad_Rownolegle2018.ipynb\n",
      "odebralem C:\\Users\\User\\Alek dokumenty\\Programowanie\\Julia\\Lab6_task2.ipynb\n",
      "odebralem C:\\Users\\User\\Alek dokumenty\\Programowanie\\Julia\\.ipynb_checkpoints\\Julia_test-checkpoint.ipynb\n",
      "odebralem C:\\Users\\User\\Alek dokumenty\\Programowanie\\Julia\\.ipynb_checkpoints\\Lab2-checkpoint.ipynb\n",
      "odebralem C:\\Users\\User\\Alek dokumenty\\Programowanie\\Julia\\.ipynb_checkpoints\\Lab3-checkpoint.ipynb\n",
      "odebralem C:\\Users\\User\\Alek dokumenty\\Programowanie\\Julia\\.ipynb_checkpoints\\Lab5-checkpoint.ipynb\n",
      "odebralem C:\\Users\\User\\Alek dokumenty\\Programowanie\\Julia\\.ipynb_checkpoints\\Lab6-checkpoint.ipynb\n",
      "odebralem C:\\Users\\User\\Alek dokumenty\\Programowanie\\Julia\\kzajac.github.io\\julia\\lab1\\Tutorial_1.ipynb\n",
      "odebralem C:\\Users\\User\\Alek dokumenty\\Programowanie\\Julia\\kzajac.github.io\\julia\\lab3\\performance_short_old.ipynb\n",
      "odebralem C:\\Users\\User\\Alek dokumenty\\Programowanie\\Julia\\kzajac.github.io\\julia\\lab3\\wyklad_performance2018.ipynb\n",
      "odebralem C:\\Users\\User\\Alek dokumenty\\Programowanie\\Julia\\kzajac.github.io\\julia\\lab4\\DataAnal_new.ipynb\n",
      "odebralem C:\\Users\\User\\Alek dokumenty\\Programowanie\\Julia\\kzajac.github.io\\julia\\lab4\\DataAnal_short.ipynb\n",
      "odebralem C:\\Users\\User\\Alek dokumenty\\Programowanie\\Julia\\kzajac.github.io\\julia\\lab4\\.ipynb_checkpoints\\DataAnal_new-checkpoint.ipynb\n",
      "odebralem C:\\Users\\User\\Alek dokumenty\\Programowanie\\Julia\\kzajac.github.io\\julia\\lab5\\metaprogramowanie2018.ipynb\n",
      "odebralem C:\\Users\\User\\Alek dokumenty\\Programowanie\\Julia\\kzajac.github.io\\julia\\lab5\\ZadanieAutoDiff.ipynb\n",
      "odebralem C:\\Users\\User\\Alek dokumenty\\Programowanie\\Julia\\kzajac.github.io\\julia\\lab6\\Rownolegle-short_old.ipynb\n",
      "odebralem C:\\Users\\User\\Alek dokumenty\\Programowanie\\Julia\\kzajac.github.io\\julia\\wyklady\\Julia_inne_jezyki_tworzenie_pakietow.ipynb\n",
      "odebralem C:\\Users\\User\\Alek dokumenty\\Programowanie\\Julia\\kzajac.github.io\\mownit\\DataAnal_short1.ipynb\n",
      "+ producent kończy\n",
      "* konsument kończy\n",
      "* konsument kończy\n",
      "* konsument kończy\n",
      "* konsument kończy\n",
      "* konsument kończy\n",
      "* konsument kończy\n",
      "* konsument kończy\n",
      "* konsument kończy\n",
      "* konsument kończy\n",
      "* konsument kończy\n",
      "* konsument kończy\n",
      "* konsument kończy\n",
      "* konsument kończy\n",
      "* konsument kończy\n",
      "* konsument kończy\n",
      "* konsument kończy\n",
      "* konsument kończy\n",
      "* konsument kończy\n",
      "* konsument kończy\n",
      "* konsument kończy\n"
     ]
    },
    {
     "data": {
      "text/plain": [
       "185776"
      ]
     },
     "execution_count": 7,
     "metadata": {},
     "output_type": "execute_result"
    }
   ],
   "source": [
    "@sync begin\n",
    "    c=Channel{String}(32)\n",
    "    sums=SharedArray{Int64}(size)\n",
    "    @async producer(c)\n",
    "    @sync for i=1:size\n",
    "        @async sums[i] = consument(c)\n",
    "    end\n",
    "    return sum(sums)\n",
    "end"
   ]
  },
  {
   "cell_type": "code",
   "execution_count": null,
   "metadata": {},
   "outputs": [],
   "source": []
  },
  {
   "cell_type": "code",
   "execution_count": null,
   "metadata": {},
   "outputs": [],
   "source": []
  },
  {
   "cell_type": "code",
   "execution_count": null,
   "metadata": {},
   "outputs": [],
   "source": []
  },
  {
   "cell_type": "code",
   "execution_count": null,
   "metadata": {},
   "outputs": [],
   "source": []
  },
  {
   "cell_type": "code",
   "execution_count": 9,
   "metadata": {},
   "outputs": [
    {
     "data": {
      "text/plain": [
       "94"
      ]
     },
     "execution_count": 9,
     "metadata": {},
     "output_type": "execute_result"
    }
   ],
   "source": [
    "5 +3+12 +20 +18 +5+15 +16"
   ]
  },
  {
   "cell_type": "code",
   "execution_count": null,
   "metadata": {},
   "outputs": [],
   "source": []
  }
 ],
 "metadata": {
  "kernelspec": {
   "display_name": "Julia 0.6.2",
   "language": "julia",
   "name": "julia-0.6"
  },
  "language_info": {
   "file_extension": ".jl",
   "mimetype": "application/julia",
   "name": "julia",
   "version": "0.6.2"
  }
 },
 "nbformat": 4,
 "nbformat_minor": 2
}
