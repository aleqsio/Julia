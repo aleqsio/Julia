{
 "cells": [
  {
   "cell_type": "code",
   "execution_count": 29,
   "metadata": {},
   "outputs": [
    {
     "data": {
      "text/plain": [
       "harmonic (generic function with 1 method)"
      ]
     },
     "execution_count": 29,
     "metadata": {},
     "output_type": "execute_result"
    }
   ],
   "source": [
    "@generated function harmonic(values::Vararg{Number})\n",
    "    size = length(values)\n",
    "    exp=:(1/values[1])\n",
    "    for i= 2:size\n",
    "        exp= :($exp+(1/values[$i]))\n",
    "    end\n",
    "    return :($size/$exp)\n",
    "end"
   ]
  },
  {
   "cell_type": "code",
   "execution_count": 30,
   "metadata": {},
   "outputs": [
    {
     "data": {
      "text/plain": [
       "2.9787234042553195"
      ]
     },
     "execution_count": 30,
     "metadata": {},
     "output_type": "execute_result"
    }
   ],
   "source": [
    "harmonic(2,2,5,7)"
   ]
  },
  {
   "cell_type": "code",
   "execution_count": 64,
   "metadata": {},
   "outputs": [
    {
     "data": {
      "text/plain": [
       "autodiff (generic function with 4 methods)"
      ]
     },
     "execution_count": 64,
     "metadata": {},
     "output_type": "execute_result"
    }
   ],
   "source": [
    "function autodiff(ex::Expr)::Expr\n",
    "    print(\"a \",ex.args,\"\\n\")\n",
    "    if length(ex.args)<=3\n",
    "        return autodiff(ex.args[1],ex.args[2:end])\n",
    "    else\n",
    "        return autodiff(Expr(:call,ex.args[1],Expr(:call,ex.args[1],ex.args[2:end-1]...),ex.args[end]))\n",
    "    end\n",
    "end\n",
    "function autodiff(ex::Number)::Int64\n",
    "    print(\"c \",ex,\"\\n\")\n",
    "    return 0\n",
    "end\n",
    "function autodiff(ex::Symbol)::Int64\n",
    "    print(\"d \",ex,\"\\n\")\n",
    "    return :(1)\n",
    "end\n",
    "function autodiff(op::Symbol,args)::Expr\n",
    "    print(\"b \",args,\"\\n\")\n",
    "    if op==:*\n",
    "        return Expr(:call,:+,Expr(:call,:*,autodiff(args[1]),args[2]),Expr(:call,:*,args[1],autodiff(args[2])))\n",
    "    elseif op==:+\n",
    "        return Expr(:call,:+,autodiff(args[1]),autodiff(args[2]))\n",
    "    elseif op==:-\n",
    "        return Expr(:call,:-,autodiff(args[1]),autodiff(args[2]))\n",
    "    elseif op==:/\n",
    "        nomin=Expr(:call,:-,Expr(:call,:*,autodiff(args[1]),args[2]),Expr(:call,:*,args[1],autodiff(args[2])))\n",
    "        denom=Expr(:call,:^,args[2],2)\n",
    "        return Expr(:call,:/,nomin,denom)\n",
    "    end\n",
    "    return :()\n",
    "end"
   ]
  },
  {
   "cell_type": "code",
   "execution_count": 65,
   "metadata": {},
   "outputs": [
    {
     "name": "stdout",
     "output_type": "stream",
     "text": [
      "a Any[:/, :(5 * x * x + 4x), :(3 * x * x * x + 2 * x * x + x)]\n",
      "b Any[:(5 * x * x + 4x), :(3 * x * x * x + 2 * x * x + x)]\n",
      "a Any[:+, :(5 * x * x), :(4x)]\n",
      "b Any[:(5 * x * x), :(4x)]\n",
      "a Any[:*, 5, :x, :x]\n",
      "a Any[:*, :(5x), :x]\n",
      "b Any[:(5x), :x]\n",
      "a Any[:*, 5, :x]\n",
      "b Any[5, :x]\n",
      "c 5\n",
      "d x\n",
      "d x\n",
      "a Any[:*, 4, :x]\n",
      "b Any[4, :x]\n",
      "c 4\n",
      "d x\n",
      "a Any[:+, :(3 * x * x * x), :(2 * x * x), :x]\n",
      "a Any[:+, :(3 * x * x * x + 2 * x * x), :x]\n",
      "b Any[:(3 * x * x * x + 2 * x * x), :x]\n",
      "a Any[:+, :(3 * x * x * x), :(2 * x * x)]\n",
      "b Any[:(3 * x * x * x), :(2 * x * x)]\n",
      "a Any[:*, 3, :x, :x, :x]\n",
      "a Any[:*, :(3 * x * x), :x]\n",
      "b Any[:(3 * x * x), :x]\n",
      "a Any[:*, 3, :x, :x]\n",
      "a Any[:*, :(3x), :x]\n",
      "b Any[:(3x), :x]\n",
      "a Any[:*, 3, :x]\n",
      "b Any[3, :x]\n",
      "c 3\n",
      "d x\n",
      "d x\n",
      "d x\n",
      "a Any[:*, 2, :x, :x]\n",
      "a Any[:*, :(2x), :x]\n",
      "b Any[:(2x), :x]\n",
      "a Any[:*, 2, :x]\n",
      "b Any[2, :x]\n",
      "c 2\n",
      "d x\n",
      "d x\n",
      "d x\n"
     ]
    }
   ],
   "source": [
    "deriv=autodiff(:((5*x*x+4*x)/(3*x*x*x+2*x*x+x)));"
   ]
  },
  {
   "cell_type": "code",
   "execution_count": 66,
   "metadata": {},
   "outputs": [
    {
     "data": {
      "text/plain": [
       ":(((((0x + 5 * 1) * x + (5x) * 1) + (0x + 4 * 1)) * (3 * x * x * x + 2 * x * x + x) - (5 * x * x + 4x) * (((((0x + 3 * 1) * x + (3x) * 1) * x + (3 * x * x) * 1) + ((0x + 2 * 1) * x + (2x) * 1)) + 1)) / (3 * x * x * x + 2 * x * x + x) ^ 2)"
      ]
     },
     "execution_count": 66,
     "metadata": {},
     "output_type": "execute_result"
    }
   ],
   "source": [
    "deriv"
   ]
  },
  {
   "cell_type": "code",
   "execution_count": 67,
   "metadata": {},
   "outputs": [
    {
     "data": {
      "text/plain": [
       "-0.06733369388858843"
      ]
     },
     "execution_count": 67,
     "metadata": {},
     "output_type": "execute_result"
    }
   ],
   "source": [
    "@eval f(x)=$deriv\n",
    "f(5)\n",
    "# Zgadza się z wolfram alpha ❤ http://www.wolframalpha.com/input/?i=evaluate+(((5*x*x%2B4*x)%2F(3*x*x*x%2B2*x*x%2Bx))%27)+at+x%3D5"
   ]
  },
  {
   "cell_type": "code",
   "execution_count": 2,
   "metadata": {},
   "outputs": [
    {
     "data": {
      "text/plain": [
       "f (generic function with 1 method)"
      ]
     },
     "execution_count": 2,
     "metadata": {},
     "output_type": "execute_result"
    }
   ],
   "source": [
    "f(z)=5*z*2+10*z"
   ]
  },
  {
   "cell_type": "code",
   "execution_count": 69,
   "metadata": {},
   "outputs": [
    {
     "name": "stdout",
     "output_type": "stream",
     "text": [
      "a Any[:+, :(5 * x * 2), :(10x)]\n",
      "b Any[:(5 * x * 2), :(10x)]\n",
      "a Any[:*, 5, :x, 2]\n",
      "a Any[:*, :(5x), 2]\n",
      "b Any[:(5x), 2]\n",
      "a Any[:*, 5, :x]\n",
      "b Any[5, :x]\n",
      "c 5\n",
      "d x\n",
      "c 2\n",
      "a Any[:*, 10, :x]\n",
      "b Any[10, :x]\n",
      "c 10\n",
      "d x\n"
     ]
    },
    {
     "data": {
      "text/plain": [
       ":(((0x + 5 * 1) * 2 + (5x) * 0) + (0x + 10 * 1))"
      ]
     },
     "execution_count": 69,
     "metadata": {},
     "output_type": "execute_result"
    }
   ],
   "source": [
    "deriv_from_fun=parse(replace(replace(string(code_lowered(f)[1].code[end]),\"_2\",\"x\"),\"return\",\"\"))\n",
    "autodiff(deriv_from_fun)"
   ]
  },
  {
   "cell_type": "code",
   "execution_count": 72,
   "metadata": {},
   "outputs": [
    {
     "name": "stdout",
     "output_type": "stream",
     "text": [
      "a Any[:*, 5, :x]\n",
      "b Any[5, :x]\n",
      "c 5\n",
      "d x\n"
     ]
    },
    {
     "data": {
      "text/plain": [
       ":(0x + 5 * 1)"
      ]
     },
     "execution_count": 72,
     "metadata": {},
     "output_type": "execute_result"
    }
   ],
   "source": [
    "autodiff(:(5x))"
   ]
  },
  {
   "cell_type": "code",
   "execution_count": null,
   "metadata": {},
   "outputs": [],
   "source": []
  }
 ],
 "metadata": {
  "kernelspec": {
   "display_name": "Julia 0.6.2",
   "language": "julia",
   "name": "julia-0.6"
  },
  "language_info": {
   "file_extension": ".jl",
   "mimetype": "application/julia",
   "name": "julia",
   "version": "0.6.2"
  }
 },
 "nbformat": 4,
 "nbformat_minor": 2
}
