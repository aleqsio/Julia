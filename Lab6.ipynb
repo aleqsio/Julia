{
 "cells": [
  {
   "cell_type": "code",
   "execution_count": null,
   "metadata": {},
   "outputs": [],
   "source": [
    "last=0\n",
    "function printNTimes!(num;times=10)\n",
    "    for i=1:times\n",
    "        while((last)%3+1 !=num)\n",
    "            yield()\n",
    "        end\n",
    "        print(num,\"\\n\")\n",
    "        global last=num\n",
    "    end\n",
    "end\n",
    "\n",
    "print1 = Task(() -> printNTimes!(1))\n",
    "print2 = Task(() -> printNTimes!(2))\n",
    "print3 = Task(() -> printNTimes!(3))\n",
    "schedule(print3);\n",
    "schedule(print2);\n",
    "schedule(print1);"
   ]
  },
  {
   "cell_type": "markdown",
   "metadata": {},
   "source": [
    "## Zadanie 3"
   ]
  },
  {
   "cell_type": "code",
   "execution_count": 229,
   "metadata": {},
   "outputs": [],
   "source": [
    "using DataFrames\n",
    "using StatPlots"
   ]
  },
  {
   "cell_type": "code",
   "execution_count": 176,
   "metadata": {},
   "outputs": [
    {
     "data": {
      "text/plain": [
       "setWorkersCount (generic function with 1 method)"
      ]
     },
     "execution_count": 176,
     "metadata": {},
     "output_type": "execute_result"
    }
   ],
   "source": [
    "function setWorkersCount(count)\n",
    "    for i=2:1000\n",
    "        rmprocs(i)\n",
    "    end\n",
    "    addprocs(count)\n",
    "    workers()\n",
    "end"
   ]
  },
  {
   "cell_type": "code",
   "execution_count": 177,
   "metadata": {},
   "outputs": [
    {
     "data": {
      "text/plain": [
       "1-element Array{Int64,1}:\n",
       " 23"
      ]
     },
     "execution_count": 177,
     "metadata": {},
     "output_type": "execute_result"
    }
   ],
   "source": [
    "workers()"
   ]
  },
  {
   "cell_type": "code",
   "execution_count": 178,
   "metadata": {},
   "outputs": [
    {
     "data": {
      "text/plain": [
       "1-element Array{Int64,1}:\n",
       " 24"
      ]
     },
     "execution_count": 178,
     "metadata": {},
     "output_type": "execute_result"
    }
   ],
   "source": [
    "setWorkersCount(1)"
   ]
  },
  {
   "cell_type": "code",
   "execution_count": 179,
   "metadata": {},
   "outputs": [
    {
     "data": {
      "text/plain": [
       "Plots.GRBackend()"
      ]
     },
     "execution_count": 179,
     "metadata": {},
     "output_type": "execute_result"
    }
   ],
   "source": [
    "using Plots\n",
    "Plots.gr()"
   ]
  },
  {
   "cell_type": "code",
   "execution_count": 196,
   "metadata": {},
   "outputs": [],
   "source": [
    "@everywhere function generate_julia(z; c=2, maxiter=200)\n",
    "    for i=1:maxiter\n",
    "        if abs(z) > 2\n",
    "            return i-1\n",
    "        end\n",
    "        z = z^2 + c\n",
    "    end\n",
    "    maxiter\n",
    "end"
   ]
  },
  {
   "cell_type": "code",
   "execution_count": 197,
   "metadata": {},
   "outputs": [],
   "source": [
    "@everywhere function calc_julia!(julia_set, xrange, yrange; maxiter=200, height=400, width_start=1, width_end=400)\n",
    "   for x=width_start:width_end\n",
    "        for y=1:height\n",
    "            z = xrange[x] + 1im*yrange[y]\n",
    "            julia_set[x, y] = generate_julia(z, c=-0.70176-0.3842im, maxiter=maxiter)\n",
    "        end\n",
    "    end\n",
    "end"
   ]
  },
  {
   "cell_type": "code",
   "execution_count": 182,
   "metadata": {},
   "outputs": [
    {
     "data": {
      "text/plain": [
       "calc_julia_main_no_parallel (generic function with 1 method)"
      ]
     },
     "execution_count": 182,
     "metadata": {},
     "output_type": "execute_result"
    }
   ],
   "source": [
    "function calc_julia_main_no_parallel(h,w)\n",
    "   xmin, xmax = -2,2\n",
    "   ymin, ymax = -1,1\n",
    "   xrange = linspace(xmin, xmax, w)\n",
    "   yrange = linspace(ymin, ymax, h)\n",
    "   julia_set = Array{Int64}(w, h)\n",
    "   @time calc_julia!(julia_set, xrange, yrange, height=h, width_end=w)\n",
    "\n",
    "   return Plots.heatmap(xrange, yrange, julia_set)\n",
    "end\n",
    "\n",
    "#calc_julia_main(2000,2000)"
   ]
  },
  {
   "cell_type": "code",
   "execution_count": 183,
   "metadata": {},
   "outputs": [
    {
     "data": {
      "text/plain": [
       "calc_julia_main_parallel_for (generic function with 2 methods)"
      ]
     },
     "execution_count": 183,
     "metadata": {},
     "output_type": "execute_result"
    }
   ],
   "source": [
    "function calc_julia_main_parallel_for(h,w,threads)\n",
    "   xmin, xmax = -2,2\n",
    "   ymin, ymax = -1,1\n",
    "   yrange = linspace(ymin, ymax, h)\n",
    "   xrange = linspace(xmin, xmax, w)\n",
    "   julia_set = SharedArray{Float64}(w, h)\n",
    "    \n",
    "   @sync @parallel for i = 0:(threads-1)\n",
    "        #println(trunc(Int,floor(1+((i/threads)*(w-1)))),\" : \",trunc(Int,floor(1+(((i+1)/threads)*(w-1)))))\n",
    "        calc_julia!(julia_set, xrange, yrange, height=h,width_start=trunc(Int,floor(1+((i/threads)*(w-1)))),width_end=trunc(Int,floor(1+(((i+1)/threads)*(w-1)))))\n",
    "   end\n",
    "   \n",
    "\n",
    "   return Plots.heatmap(xrange, yrange, julia_set)\n",
    "end\n",
    "\n",
    "#@time calc_julia_main_parallel_for(2000,2000,1)"
   ]
  },
  {
   "cell_type": "code",
   "execution_count": 184,
   "metadata": {},
   "outputs": [
    {
     "data": {
      "text/plain": [
       "6-element Array{Any,1}:\n",
       " Any[\"parallel for\", 1, 1, 3.99359] \n",
       " Any[\"parallel for\", 1, 2, 2.57719] \n",
       " Any[\"parallel for\", 1, 4, 2.68253] \n",
       " Any[\"parallel for\", 1, 8, 2.53002] \n",
       " Any[\"parallel for\", 1, 16, 2.68654]\n",
       " Any[\"parallel for\", 1, 32, 2.53824]"
      ]
     },
     "execution_count": 184,
     "metadata": {},
     "output_type": "execute_result"
    }
   ],
   "source": [
    "data=[]\n",
    "for i=0:5\n",
    "    push!(data,[\"parallel for\",1,2^i,@elapsed (calc_julia_main_parallel_for(2000,2000,2^i))])\n",
    "end\n",
    "data"
   ]
  },
  {
   "cell_type": "code",
   "execution_count": 185,
   "metadata": {},
   "outputs": [
    {
     "data": {
      "text/plain": [
       "calc_julia_main_pmap (generic function with 2 methods)"
      ]
     },
     "execution_count": 185,
     "metadata": {},
     "output_type": "execute_result"
    }
   ],
   "source": [
    "function calc_julia_main_pmap(h,w,granularity)\n",
    "   xmin, xmax = -2,2\n",
    "   ymin, ymax = -1,1\n",
    "   yrange = linspace(ymin, ymax, h)\n",
    "   xrange = linspace(xmin, xmax, w)\n",
    "   julia_set = SharedArray{Float64}(w, h)\n",
    "   ranges = []\n",
    "   for i = 0:(granularity-1)\n",
    "        push!(ranges,[trunc(Int,floor(1+((i/granularity)*(w-1)))),trunc(Int,floor(1+(((i+1)/granularity)*(w-1))))])\n",
    "        #\n",
    "   end\n",
    "   pmap(range -> calc_julia!(julia_set, xrange, yrange, height=h,width_start=range[1],width_end=range[2]), ranges);\n",
    "\n",
    "   return Plots.heatmap(xrange, yrange, julia_set)\n",
    "end"
   ]
  },
  {
   "cell_type": "code",
   "execution_count": null,
   "metadata": {},
   "outputs": [],
   "source": [
    "setWorkersCount(1)"
   ]
  },
  {
   "cell_type": "markdown",
   "metadata": {},
   "source": [
    "### Na tym etapie trzeba przeładować funkcje @everywhere (calc i generate)"
   ]
  },
  {
   "cell_type": "code",
   "execution_count": 190,
   "metadata": {},
   "outputs": [],
   "source": [
    "for i=0:5\n",
    "    push!(data,[\"pmap\",1,2^i,@elapsed (calc_julia_main_pmap(2000,2000,2^i))])\n",
    "end"
   ]
  },
  {
   "cell_type": "code",
   "execution_count": 258,
   "metadata": {},
   "outputs": [
    {
     "data": {
      "text/plain": [
       "10-element Array{Int64,1}:\n",
       " 56\n",
       " 57\n",
       " 58\n",
       " 59\n",
       " 60\n",
       " 61\n",
       " 62\n",
       " 63\n",
       " 64\n",
       " 65"
      ]
     },
     "execution_count": 258,
     "metadata": {},
     "output_type": "execute_result"
    }
   ],
   "source": [
    "setWorkersCount(10)"
   ]
  },
  {
   "cell_type": "markdown",
   "metadata": {},
   "source": [
    "### Na tym etapie trzeba przeładować funkcje @everywhere (calc i generate)"
   ]
  },
  {
   "cell_type": "code",
   "execution_count": 194,
   "metadata": {},
   "outputs": [],
   "source": [
    "for i=0:5\n",
    "    push!(data,[\"pmap\",10,2^i,@elapsed (calc_julia_main_pmap(2000,2000,2^i))])\n",
    "end"
   ]
  },
  {
   "cell_type": "code",
   "execution_count": 195,
   "metadata": {},
   "outputs": [
    {
     "data": {
      "text/plain": [
       "20-element Array{Int64,1}:\n",
       " 36\n",
       " 37\n",
       " 38\n",
       " 39\n",
       " 40\n",
       " 41\n",
       " 42\n",
       " 43\n",
       " 44\n",
       " 45\n",
       " 46\n",
       " 47\n",
       " 48\n",
       " 49\n",
       " 50\n",
       " 51\n",
       " 52\n",
       " 53\n",
       " 54\n",
       " 55"
      ]
     },
     "execution_count": 195,
     "metadata": {},
     "output_type": "execute_result"
    }
   ],
   "source": [
    "setWorkersCount(20)"
   ]
  },
  {
   "cell_type": "markdown",
   "metadata": {},
   "source": [
    "### Na tym etapie trzeba przeładować funkcje @everywhere (calc i generate)"
   ]
  },
  {
   "cell_type": "code",
   "execution_count": 198,
   "metadata": {},
   "outputs": [],
   "source": [
    "for i=0:5\n",
    "    push!(data,[\"pamp\",20,2^i,@elapsed (calc_julia_main_pmap(2000,2000,2^i))])\n",
    "end"
   ]
  },
  {
   "cell_type": "code",
   "execution_count": 199,
   "metadata": {},
   "outputs": [
    {
     "data": {
      "text/plain": [
       "24-element Array{Any,1}:\n",
       " Any[\"parallel for\", 1, 1, 3.99359] \n",
       " Any[\"parallel for\", 1, 2, 2.57719] \n",
       " Any[\"parallel for\", 1, 4, 2.68253] \n",
       " Any[\"parallel for\", 1, 8, 2.53002] \n",
       " Any[\"parallel for\", 1, 16, 2.68654]\n",
       " Any[\"parallel for\", 1, 32, 2.53824]\n",
       " Any[\"pmap\", 1, 1, 3.27916]         \n",
       " Any[\"pmap\", 1, 2, 2.60541]         \n",
       " Any[\"pmap\", 1, 4, 2.7108]          \n",
       " Any[\"pmap\", 1, 8, 2.76158]         \n",
       " Any[\"pmap\", 1, 16, 2.82997]        \n",
       " Any[\"pmap\", 1, 32, 3.54704]        \n",
       " Any[\"pmap\", 10, 1, 5.22743]        \n",
       " Any[\"pmap\", 10, 2, 2.92037]        \n",
       " Any[\"pmap\", 10, 4, 3.23985]        \n",
       " Any[\"pmap\", 10, 8, 2.98439]        \n",
       " Any[\"pmap\", 10, 16, 1.55053]       \n",
       " Any[\"pmap\", 10, 32, 1.41714]       \n",
       " Any[\"pamp\", 20, 1, 7.63606]        \n",
       " Any[\"pamp\", 20, 2, 2.91852]        \n",
       " Any[\"pamp\", 20, 4, 3.5681]         \n",
       " Any[\"pamp\", 20, 8, 6.3103]         \n",
       " Any[\"pamp\", 20, 16, 4.76315]       \n",
       " Any[\"pamp\", 20, 32, 1.90812]       "
      ]
     },
     "execution_count": 199,
     "metadata": {},
     "output_type": "execute_result"
    }
   ],
   "source": [
    "data"
   ]
  },
  {
   "cell_type": "code",
   "execution_count": 238,
   "metadata": {},
   "outputs": [
    {
     "data": {
      "text/html": [
       "<table class=\"data-frame\"><thead><tr><th></th><th>id</th><th>sol_type</th><th>worker_count</th><th>granularity</th><th>time</th></tr></thead><tbody><tr><th>1</th><td>1</td><td>parallel for</td><td>1</td><td>1</td><td>3.993587925</td></tr><tr><th>2</th><td>2</td><td>parallel for</td><td>1</td><td>2</td><td>2.577185264</td></tr><tr><th>3</th><td>3</td><td>parallel for</td><td>1</td><td>4</td><td>2.682527784</td></tr><tr><th>4</th><td>4</td><td>parallel for</td><td>1</td><td>8</td><td>2.530019012</td></tr><tr><th>5</th><td>5</td><td>parallel for</td><td>1</td><td>16</td><td>2.686540719</td></tr><tr><th>6</th><td>6</td><td>parallel for</td><td>1</td><td>32</td><td>2.538241526</td></tr><tr><th>7</th><td>7</td><td>pmap</td><td>1</td><td>1</td><td>3.279160285</td></tr><tr><th>8</th><td>8</td><td>pmap</td><td>1</td><td>2</td><td>2.605405126</td></tr><tr><th>9</th><td>9</td><td>pmap</td><td>1</td><td>4</td><td>2.710795268</td></tr><tr><th>10</th><td>10</td><td>pmap</td><td>1</td><td>8</td><td>2.761581987</td></tr><tr><th>11</th><td>11</td><td>pmap</td><td>1</td><td>16</td><td>2.829974305</td></tr><tr><th>12</th><td>12</td><td>pmap</td><td>1</td><td>32</td><td>3.547043709</td></tr><tr><th>13</th><td>13</td><td>pmap</td><td>10</td><td>1</td><td>5.227426882</td></tr><tr><th>14</th><td>14</td><td>pmap</td><td>10</td><td>2</td><td>2.920373106</td></tr><tr><th>15</th><td>15</td><td>pmap</td><td>10</td><td>4</td><td>3.239850354</td></tr><tr><th>16</th><td>16</td><td>pmap</td><td>10</td><td>8</td><td>2.98438917</td></tr><tr><th>17</th><td>17</td><td>pmap</td><td>10</td><td>16</td><td>1.550531575</td></tr><tr><th>18</th><td>18</td><td>pmap</td><td>10</td><td>32</td><td>1.417141616</td></tr><tr><th>19</th><td>19</td><td>pamp</td><td>20</td><td>1</td><td>7.636063949</td></tr><tr><th>20</th><td>20</td><td>pamp</td><td>20</td><td>2</td><td>2.918517098</td></tr><tr><th>21</th><td>21</td><td>pamp</td><td>20</td><td>4</td><td>3.568102688</td></tr><tr><th>22</th><td>22</td><td>pamp</td><td>20</td><td>8</td><td>6.310296965</td></tr><tr><th>23</th><td>23</td><td>pamp</td><td>20</td><td>16</td><td>4.763154318</td></tr><tr><th>24</th><td>24</td><td>pamp</td><td>20</td><td>32</td><td>1.90811672</td></tr></tbody></table>"
      ],
      "text/plain": [
       "24×5 DataFrames.DataFrame\n",
       "│ Row │ id │ sol_type       │ worker_count │ granularity │ time    │\n",
       "├─────┼────┼────────────────┼──────────────┼─────────────┼─────────┤\n",
       "│ 1   │ 1  │ \"parallel for\" │ 1            │ 1           │ 3.99359 │\n",
       "│ 2   │ 2  │ \"parallel for\" │ 1            │ 2           │ 2.57719 │\n",
       "│ 3   │ 3  │ \"parallel for\" │ 1            │ 4           │ 2.68253 │\n",
       "│ 4   │ 4  │ \"parallel for\" │ 1            │ 8           │ 2.53002 │\n",
       "│ 5   │ 5  │ \"parallel for\" │ 1            │ 16          │ 2.68654 │\n",
       "│ 6   │ 6  │ \"parallel for\" │ 1            │ 32          │ 2.53824 │\n",
       "│ 7   │ 7  │ \"pmap\"         │ 1            │ 1           │ 3.27916 │\n",
       "│ 8   │ 8  │ \"pmap\"         │ 1            │ 2           │ 2.60541 │\n",
       "│ 9   │ 9  │ \"pmap\"         │ 1            │ 4           │ 2.7108  │\n",
       "│ 10  │ 10 │ \"pmap\"         │ 1            │ 8           │ 2.76158 │\n",
       "│ 11  │ 11 │ \"pmap\"         │ 1            │ 16          │ 2.82997 │\n",
       "│ 12  │ 12 │ \"pmap\"         │ 1            │ 32          │ 3.54704 │\n",
       "│ 13  │ 13 │ \"pmap\"         │ 10           │ 1           │ 5.22743 │\n",
       "│ 14  │ 14 │ \"pmap\"         │ 10           │ 2           │ 2.92037 │\n",
       "│ 15  │ 15 │ \"pmap\"         │ 10           │ 4           │ 3.23985 │\n",
       "│ 16  │ 16 │ \"pmap\"         │ 10           │ 8           │ 2.98439 │\n",
       "│ 17  │ 17 │ \"pmap\"         │ 10           │ 16          │ 1.55053 │\n",
       "│ 18  │ 18 │ \"pmap\"         │ 10           │ 32          │ 1.41714 │\n",
       "│ 19  │ 19 │ \"pamp\"         │ 20           │ 1           │ 7.63606 │\n",
       "│ 20  │ 20 │ \"pamp\"         │ 20           │ 2           │ 2.91852 │\n",
       "│ 21  │ 21 │ \"pamp\"         │ 20           │ 4           │ 3.5681  │\n",
       "│ 22  │ 22 │ \"pamp\"         │ 20           │ 8           │ 6.3103  │\n",
       "│ 23  │ 23 │ \"pamp\"         │ 20           │ 16          │ 4.76315 │\n",
       "│ 24  │ 24 │ \"pamp\"         │ 20           │ 32          │ 1.90812 │"
      ]
     },
     "execution_count": 238,
     "metadata": {},
     "output_type": "execute_result"
    }
   ],
   "source": [
    "df = DataFrame(id=1:length(data),sol_type=map(x->x[1],data),worker_count=map(x->x[2],data),granularity=map(x->x[3],data),time=map(x->x[4],data))"
   ]
  },
  {
   "cell_type": "code",
   "execution_count": 255,
   "metadata": {},
   "outputs": [
    {
     "data": {
      "image/svg+xml": [
       "<?xml version=\"1.0\" encoding=\"utf-8\"?>\n",
       "<svg xmlns=\"http://www.w3.org/2000/svg\" xmlns:xlink=\"http://www.w3.org/1999/xlink\" width=\"600\" height=\"400\" viewBox=\"0 0 600 400\">\n",
       "<defs>\n",
       "  <clipPath id=\"clip5600\">\n",
       "    <rect x=\"0\" y=\"0\" width=\"600\" height=\"400\"/>\n",
       "  </clipPath>\n",
       "</defs>\n",
       "<polygon clip-path=\"url(#clip5600)\" points=\"\n",
       "0,400 600,400 600,0 0,0 \n",
       "  \" fill=\"#ffffff\" fill-opacity=\"1\"/>\n",
       "<defs>\n",
       "  <clipPath id=\"clip5601\">\n",
       "    <rect x=\"120\" y=\"0\" width=\"421\" height=\"400\"/>\n",
       "  </clipPath>\n",
       "</defs>\n",
       "<polygon clip-path=\"url(#clip5600)\" points=\"\n",
       "22.4386,375.869 580.315,375.869 580.315,11.811 22.4386,11.811 \n",
       "  \" fill=\"#ffffff\" fill-opacity=\"1\"/>\n",
       "<defs>\n",
       "  <clipPath id=\"clip5602\">\n",
       "    <rect x=\"22\" y=\"11\" width=\"559\" height=\"365\"/>\n",
       "  </clipPath>\n",
       "</defs>\n",
       "<polyline clip-path=\"url(#clip5602)\" style=\"stroke:#000000; stroke-width:0.5; stroke-opacity:0.1; fill:none\" points=\"\n",
       "  94.4227,375.869 94.4227,11.811 \n",
       "  \"/>\n",
       "<polyline clip-path=\"url(#clip5602)\" style=\"stroke:#000000; stroke-width:0.5; stroke-opacity:0.1; fill:none\" points=\"\n",
       "  184.403,375.869 184.403,11.811 \n",
       "  \"/>\n",
       "<polyline clip-path=\"url(#clip5602)\" style=\"stroke:#000000; stroke-width:0.5; stroke-opacity:0.1; fill:none\" points=\"\n",
       "  274.383,375.869 274.383,11.811 \n",
       "  \"/>\n",
       "<polyline clip-path=\"url(#clip5602)\" style=\"stroke:#000000; stroke-width:0.5; stroke-opacity:0.1; fill:none\" points=\"\n",
       "  364.363,375.869 364.363,11.811 \n",
       "  \"/>\n",
       "<polyline clip-path=\"url(#clip5602)\" style=\"stroke:#000000; stroke-width:0.5; stroke-opacity:0.1; fill:none\" points=\"\n",
       "  454.343,375.869 454.343,11.811 \n",
       "  \"/>\n",
       "<polyline clip-path=\"url(#clip5602)\" style=\"stroke:#000000; stroke-width:0.5; stroke-opacity:0.1; fill:none\" points=\"\n",
       "  544.323,375.869 544.323,11.811 \n",
       "  \"/>\n",
       "<polyline clip-path=\"url(#clip5602)\" style=\"stroke:#000000; stroke-width:0.5; stroke-opacity:0.1; fill:none\" points=\"\n",
       "  22.4386,341.748 580.315,341.748 \n",
       "  \"/>\n",
       "<polyline clip-path=\"url(#clip5602)\" style=\"stroke:#000000; stroke-width:0.5; stroke-opacity:0.1; fill:none\" points=\"\n",
       "  22.4386,283.208 580.315,283.208 \n",
       "  \"/>\n",
       "<polyline clip-path=\"url(#clip5602)\" style=\"stroke:#000000; stroke-width:0.5; stroke-opacity:0.1; fill:none\" points=\"\n",
       "  22.4386,224.667 580.315,224.667 \n",
       "  \"/>\n",
       "<polyline clip-path=\"url(#clip5602)\" style=\"stroke:#000000; stroke-width:0.5; stroke-opacity:0.1; fill:none\" points=\"\n",
       "  22.4386,166.127 580.315,166.127 \n",
       "  \"/>\n",
       "<polyline clip-path=\"url(#clip5602)\" style=\"stroke:#000000; stroke-width:0.5; stroke-opacity:0.1; fill:none\" points=\"\n",
       "  22.4386,107.587 580.315,107.587 \n",
       "  \"/>\n",
       "<polyline clip-path=\"url(#clip5602)\" style=\"stroke:#000000; stroke-width:0.5; stroke-opacity:0.1; fill:none\" points=\"\n",
       "  22.4386,49.0464 580.315,49.0464 \n",
       "  \"/>\n",
       "<polyline clip-path=\"url(#clip5600)\" style=\"stroke:#000000; stroke-width:1; stroke-opacity:1; fill:none\" points=\"\n",
       "  22.4386,375.869 580.315,375.869 \n",
       "  \"/>\n",
       "<polyline clip-path=\"url(#clip5600)\" style=\"stroke:#000000; stroke-width:1; stroke-opacity:1; fill:none\" points=\"\n",
       "  22.4386,375.869 22.4386,11.811 \n",
       "  \"/>\n",
       "<polyline clip-path=\"url(#clip5600)\" style=\"stroke:#000000; stroke-width:1; stroke-opacity:1; fill:none\" points=\"\n",
       "  94.4227,375.869 94.4227,370.408 \n",
       "  \"/>\n",
       "<polyline clip-path=\"url(#clip5600)\" style=\"stroke:#000000; stroke-width:1; stroke-opacity:1; fill:none\" points=\"\n",
       "  184.403,375.869 184.403,370.408 \n",
       "  \"/>\n",
       "<polyline clip-path=\"url(#clip5600)\" style=\"stroke:#000000; stroke-width:1; stroke-opacity:1; fill:none\" points=\"\n",
       "  274.383,375.869 274.383,370.408 \n",
       "  \"/>\n",
       "<polyline clip-path=\"url(#clip5600)\" style=\"stroke:#000000; stroke-width:1; stroke-opacity:1; fill:none\" points=\"\n",
       "  364.363,375.869 364.363,370.408 \n",
       "  \"/>\n",
       "<polyline clip-path=\"url(#clip5600)\" style=\"stroke:#000000; stroke-width:1; stroke-opacity:1; fill:none\" points=\"\n",
       "  454.343,375.869 454.343,370.408 \n",
       "  \"/>\n",
       "<polyline clip-path=\"url(#clip5600)\" style=\"stroke:#000000; stroke-width:1; stroke-opacity:1; fill:none\" points=\"\n",
       "  544.323,375.869 544.323,370.408 \n",
       "  \"/>\n",
       "<polyline clip-path=\"url(#clip5600)\" style=\"stroke:#000000; stroke-width:1; stroke-opacity:1; fill:none\" points=\"\n",
       "  22.4386,341.748 30.8068,341.748 \n",
       "  \"/>\n",
       "<polyline clip-path=\"url(#clip5600)\" style=\"stroke:#000000; stroke-width:1; stroke-opacity:1; fill:none\" points=\"\n",
       "  22.4386,283.208 30.8068,283.208 \n",
       "  \"/>\n",
       "<polyline clip-path=\"url(#clip5600)\" style=\"stroke:#000000; stroke-width:1; stroke-opacity:1; fill:none\" points=\"\n",
       "  22.4386,224.667 30.8068,224.667 \n",
       "  \"/>\n",
       "<polyline clip-path=\"url(#clip5600)\" style=\"stroke:#000000; stroke-width:1; stroke-opacity:1; fill:none\" points=\"\n",
       "  22.4386,166.127 30.8068,166.127 \n",
       "  \"/>\n",
       "<polyline clip-path=\"url(#clip5600)\" style=\"stroke:#000000; stroke-width:1; stroke-opacity:1; fill:none\" points=\"\n",
       "  22.4386,107.587 30.8068,107.587 \n",
       "  \"/>\n",
       "<polyline clip-path=\"url(#clip5600)\" style=\"stroke:#000000; stroke-width:1; stroke-opacity:1; fill:none\" points=\"\n",
       "  22.4386,49.0464 30.8068,49.0464 \n",
       "  \"/>\n",
       "<g clip-path=\"url(#clip5600)\">\n",
       "<text style=\"fill:#000000; fill-opacity:1; font-family:Arial,Helvetica Neue,Helvetica,sans-serif; font-size:12; text-anchor:middle;\" transform=\"rotate(0, 94.4227, 389.669)\" x=\"94.4227\" y=\"389.669\">5</text>\n",
       "</g>\n",
       "<g clip-path=\"url(#clip5600)\">\n",
       "<text style=\"fill:#000000; fill-opacity:1; font-family:Arial,Helvetica Neue,Helvetica,sans-serif; font-size:12; text-anchor:middle;\" transform=\"rotate(0, 184.403, 389.669)\" x=\"184.403\" y=\"389.669\">10</text>\n",
       "</g>\n",
       "<g clip-path=\"url(#clip5600)\">\n",
       "<text style=\"fill:#000000; fill-opacity:1; font-family:Arial,Helvetica Neue,Helvetica,sans-serif; font-size:12; text-anchor:middle;\" transform=\"rotate(0, 274.383, 389.669)\" x=\"274.383\" y=\"389.669\">15</text>\n",
       "</g>\n",
       "<g clip-path=\"url(#clip5600)\">\n",
       "<text style=\"fill:#000000; fill-opacity:1; font-family:Arial,Helvetica Neue,Helvetica,sans-serif; font-size:12; text-anchor:middle;\" transform=\"rotate(0, 364.363, 389.669)\" x=\"364.363\" y=\"389.669\">20</text>\n",
       "</g>\n",
       "<g clip-path=\"url(#clip5600)\">\n",
       "<text style=\"fill:#000000; fill-opacity:1; font-family:Arial,Helvetica Neue,Helvetica,sans-serif; font-size:12; text-anchor:middle;\" transform=\"rotate(0, 454.343, 389.669)\" x=\"454.343\" y=\"389.669\">25</text>\n",
       "</g>\n",
       "<g clip-path=\"url(#clip5600)\">\n",
       "<text style=\"fill:#000000; fill-opacity:1; font-family:Arial,Helvetica Neue,Helvetica,sans-serif; font-size:12; text-anchor:middle;\" transform=\"rotate(0, 544.323, 389.669)\" x=\"544.323\" y=\"389.669\">30</text>\n",
       "</g>\n",
       "<g clip-path=\"url(#clip5600)\">\n",
       "<text style=\"fill:#000000; fill-opacity:1; font-family:Arial,Helvetica Neue,Helvetica,sans-serif; font-size:12; text-anchor:end;\" transform=\"rotate(0, 16.4386, 346.248)\" x=\"16.4386\" y=\"346.248\">2</text>\n",
       "</g>\n",
       "<g clip-path=\"url(#clip5600)\">\n",
       "<text style=\"fill:#000000; fill-opacity:1; font-family:Arial,Helvetica Neue,Helvetica,sans-serif; font-size:12; text-anchor:end;\" transform=\"rotate(0, 16.4386, 287.708)\" x=\"16.4386\" y=\"287.708\">3</text>\n",
       "</g>\n",
       "<g clip-path=\"url(#clip5600)\">\n",
       "<text style=\"fill:#000000; fill-opacity:1; font-family:Arial,Helvetica Neue,Helvetica,sans-serif; font-size:12; text-anchor:end;\" transform=\"rotate(0, 16.4386, 229.167)\" x=\"16.4386\" y=\"229.167\">4</text>\n",
       "</g>\n",
       "<g clip-path=\"url(#clip5600)\">\n",
       "<text style=\"fill:#000000; fill-opacity:1; font-family:Arial,Helvetica Neue,Helvetica,sans-serif; font-size:12; text-anchor:end;\" transform=\"rotate(0, 16.4386, 170.627)\" x=\"16.4386\" y=\"170.627\">5</text>\n",
       "</g>\n",
       "<g clip-path=\"url(#clip5600)\">\n",
       "<text style=\"fill:#000000; fill-opacity:1; font-family:Arial,Helvetica Neue,Helvetica,sans-serif; font-size:12; text-anchor:end;\" transform=\"rotate(0, 16.4386, 112.087)\" x=\"16.4386\" y=\"112.087\">6</text>\n",
       "</g>\n",
       "<g clip-path=\"url(#clip5600)\">\n",
       "<text style=\"fill:#000000; fill-opacity:1; font-family:Arial,Helvetica Neue,Helvetica,sans-serif; font-size:12; text-anchor:end;\" transform=\"rotate(0, 16.4386, 53.5464)\" x=\"16.4386\" y=\"53.5464\">7</text>\n",
       "</g>\n",
       "<polyline clip-path=\"url(#clip5602)\" style=\"stroke:#009af9; stroke-width:1; stroke-opacity:1; fill:none\" points=\"\n",
       "  22.4386,11.811 40.4346,287.978 76.4266,249.951 148.411,89.4218 292.379,179.992 580.315,347.127 \n",
       "  \"/>\n",
       "<polyline clip-path=\"url(#clip5602)\" style=\"stroke:#e26f46; stroke-width:1; stroke-opacity:1; fill:none\" points=\"\n",
       "  22.4386,225.043 40.4346,307.959 76.4266,301.793 148.411,310.72 292.379,301.558 580.315,310.239 \n",
       "  \"/>\n",
       "<polyline clip-path=\"url(#clip5602)\" style=\"stroke:#3da44d; stroke-width:1; stroke-opacity:1; fill:none\" points=\"\n",
       "  22.4386,266.866 40.4346,306.307 76.4266,300.138 148.411,297.165 292.379,293.161 580.315,251.184 \n",
       "  \"/>\n",
       "<polyline clip-path=\"url(#clip5602)\" style=\"stroke:#c271d2; stroke-width:1; stroke-opacity:1; fill:none\" points=\"\n",
       "  22.4386,152.813 40.4346,287.869 76.4266,269.167 148.411,284.122 292.379,368.06 580.315,375.869 \n",
       "  \"/>\n",
       "<polygon clip-path=\"url(#clip5600)\" points=\"\n",
       "426.071,108.291 562.315,108.291 562.315,32.691 426.071,32.691 \n",
       "  \" fill=\"#ffffff\" fill-opacity=\"1\"/>\n",
       "<polyline clip-path=\"url(#clip5600)\" style=\"stroke:#000000; stroke-width:1; stroke-opacity:1; fill:none\" points=\"\n",
       "  426.071,108.291 562.315,108.291 562.315,32.691 426.071,32.691 426.071,108.291 \n",
       "  \"/>\n",
       "<polyline clip-path=\"url(#clip5600)\" style=\"stroke:#009af9; stroke-width:1; stroke-opacity:1; fill:none\" points=\"\n",
       "  432.071,47.811 468.071,47.811 \n",
       "  \"/>\n",
       "<g clip-path=\"url(#clip5600)\">\n",
       "<text style=\"fill:#000000; fill-opacity:1; font-family:Arial,Helvetica Neue,Helvetica,sans-serif; font-size:12; text-anchor:start;\" transform=\"rotate(0, 474.071, 52.311)\" x=\"474.071\" y=\"52.311\">pamp 20.0</text>\n",
       "</g>\n",
       "<polyline clip-path=\"url(#clip5600)\" style=\"stroke:#e26f46; stroke-width:1; stroke-opacity:1; fill:none\" points=\"\n",
       "  432.071,62.931 468.071,62.931 \n",
       "  \"/>\n",
       "<g clip-path=\"url(#clip5600)\">\n",
       "<text style=\"fill:#000000; fill-opacity:1; font-family:Arial,Helvetica Neue,Helvetica,sans-serif; font-size:12; text-anchor:start;\" transform=\"rotate(0, 474.071, 67.431)\" x=\"474.071\" y=\"67.431\">parallel for 1.0</text>\n",
       "</g>\n",
       "<polyline clip-path=\"url(#clip5600)\" style=\"stroke:#3da44d; stroke-width:1; stroke-opacity:1; fill:none\" points=\"\n",
       "  432.071,78.051 468.071,78.051 \n",
       "  \"/>\n",
       "<g clip-path=\"url(#clip5600)\">\n",
       "<text style=\"fill:#000000; fill-opacity:1; font-family:Arial,Helvetica Neue,Helvetica,sans-serif; font-size:12; text-anchor:start;\" transform=\"rotate(0, 474.071, 82.551)\" x=\"474.071\" y=\"82.551\">pmap 1.0</text>\n",
       "</g>\n",
       "<polyline clip-path=\"url(#clip5600)\" style=\"stroke:#c271d2; stroke-width:1; stroke-opacity:1; fill:none\" points=\"\n",
       "  432.071,93.171 468.071,93.171 \n",
       "  \"/>\n",
       "<g clip-path=\"url(#clip5600)\">\n",
       "<text style=\"fill:#000000; fill-opacity:1; font-family:Arial,Helvetica Neue,Helvetica,sans-serif; font-size:12; text-anchor:start;\" transform=\"rotate(0, 474.071, 97.671)\" x=\"474.071\" y=\"97.671\">pmap 10.0</text>\n",
       "</g>\n",
       "</svg>\n"
      ]
     },
     "execution_count": 255,
     "metadata": {},
     "output_type": "execute_result"
    }
   ],
   "source": [
    "@df df plot(:granularity,:time,group=(:sol_type,:worker_count))"
   ]
  },
  {
   "cell_type": "code",
   "execution_count": null,
   "metadata": {},
   "outputs": [],
   "source": []
  }
 ],
 "metadata": {
  "kernelspec": {
   "display_name": "Julia 0.6.2",
   "language": "julia",
   "name": "julia-0.6"
  },
  "language_info": {
   "file_extension": ".jl",
   "mimetype": "application/julia",
   "name": "julia",
   "version": "0.6.2"
  }
 },
 "nbformat": 4,
 "nbformat_minor": 2
}
